{
  "nbformat": 4,
  "nbformat_minor": 0,
  "metadata": {
    "colab": {
      "name": "Sampling from Gaussian Distribution.ipynb",
      "provenance": [],
      "collapsed_sections": [],
      "include_colab_link": true
    },
    "kernelspec": {
      "name": "python3",
      "display_name": "Python 3"
    }
  },
  "cells": [
    {
      "cell_type": "markdown",
      "metadata": {
        "id": "view-in-github",
        "colab_type": "text"
      },
      "source": [
        "<a href=\"https://colab.research.google.com/github/itsmevidhyak/Trippy/blob/master/Sampling_from_Gaussian_Distribution.ipynb\" target=\"_parent\"><img src=\"https://colab.research.google.com/assets/colab-badge.svg\" alt=\"Open In Colab\"/></a>"
      ]
    },
    {
      "cell_type": "markdown",
      "metadata": {
        "id": "863f8C-POlV0",
        "colab_type": "text"
      },
      "source": [
        "# Sampling from a Gaussian Distribution using Tensorflow Probability"
      ]
    },
    {
      "cell_type": "code",
      "metadata": {
        "id": "LR2RnE8RFNtW",
        "colab_type": "code",
        "colab": {}
      },
      "source": [
        "# Import packages\n",
        "import collections\n",
        "\n",
        "import tensorflow as tf\n",
        "import tensorflow_probability as tfp\n",
        "tfd = tfp.distributions\n",
        "\n",
        "try:\n",
        "  tf.compat.v1.enable_eager_execution()\n",
        "except ValueError:\n",
        "  pass\n",
        "\n",
        "import matplotlib.pyplot as plt\n",
        "from __future__ import print_fun"
      ],
      "execution_count": 0,
      "outputs": []
    },
    {
      "cell_type": "markdown",
      "metadata": {
        "id": "o1hWle0zO9Ik",
        "colab_type": "text"
      },
      "source": [
        "tfp is object-oriented. Hence, we need to instantiate a distribution from which we want to sample from and then we need to call the sample() method."
      ]
    },
    {
      "cell_type": "code",
      "metadata": {
        "id": "4P35dAUxLLZU",
        "colab_type": "code",
        "outputId": "6e14082c-ae9e-4f23-d4ca-ed36ed01dc46",
        "colab": {
          "base_uri": "https://localhost:8080/",
          "height": 203
        }
      },
      "source": [
        "# Instantiate a Gaussian Distribution\n",
        "gaussian = tfd.Normal(loc = 3.0, scale = 5.0)\n",
        "\n",
        "# Sampling from a Gaussian Distribution\n",
        "for i in range(10):\n",
        "  print(\"Sample {} from the Gaussian Distribution: {:.2f}\". format(i, gaussian.sample()))"
      ],
      "execution_count": 0,
      "outputs": [
        {
          "output_type": "stream",
          "text": [
            "Sample 0 from the Gaussian Distribution: -0.63\n",
            "Sample 1 from the Gaussian Distribution: 7.74\n",
            "Sample 2 from the Gaussian Distribution: 5.13\n",
            "Sample 3 from the Gaussian Distribution: 0.56\n",
            "Sample 4 from the Gaussian Distribution: 5.38\n",
            "Sample 5 from the Gaussian Distribution: 5.89\n",
            "Sample 6 from the Gaussian Distribution: 4.22\n",
            "Sample 7 from the Gaussian Distribution: -3.35\n",
            "Sample 8 from the Gaussian Distribution: -3.48\n",
            "Sample 9 from the Gaussian Distribution: 8.72\n"
          ],
          "name": "stdout"
        }
      ]
    },
    {
      "cell_type": "code",
      "metadata": {
        "id": "eChoxIbFNgck",
        "colab_type": "code",
        "outputId": "e35d7ebd-96e8-4898-d335-f268cbcea0b6",
        "colab": {
          "base_uri": "https://localhost:8080/",
          "height": 283
        }
      },
      "source": [
        "# Plot the results\n",
        "simulated_values = gaussian.sample(1000000)\n",
        "\n",
        "plt.hist(simulated_values, bins = 30, color = 'dodgerblue', alpha = 0.5)\n",
        "plt.axvline(x = 3.0)\n",
        "plt.title('Simulating from the gaussian distribution with $\\mu = 3.0 \\\\ and \\\\ \\sigma = 5.0$')\n",
        "plt.show()"
      ],
      "execution_count": 0,
      "outputs": [
        {
          "output_type": "display_data",
          "data": {
            "image/png": "[encoded data removed]",
            "text/plain": [
              "<Figure size 432x288 with 1 Axes>"
            ]
          },
          "metadata": {
            "tags": []
          }
        }
      ]
    }
  ]
}