{
  "nbformat": 4,
  "nbformat_minor": 0,
  "metadata": {
    "colab": {
      "name": "Stacking_simulations.ipynb",
      "provenance": [],
      "include_colab_link": true
    },
    "kernelspec": {
      "name": "python3",
      "display_name": "Python 3"
    }
  },
  "cells": [
    {
      "cell_type": "markdown",
      "metadata": {
        "id": "view-in-github",
        "colab_type": "text"
      },
      "source": [
        "<a href=\"https://colab.research.google.com/github/itsmevidhyak/Trippy/blob/master/Stacking_simulations.ipynb\" target=\"_parent\"><img src=\"https://colab.research.google.com/assets/colab-badge.svg\" alt=\"Open In Colab\"/></a>"
      ]
    },
    {
      "cell_type": "markdown",
      "metadata": {
        "id": "OD9PcHyL8jFw",
        "colab_type": "text"
      },
      "source": [
        "# Stacking Simulations"
      ]
    },
    {
      "cell_type": "code",
      "metadata": {
        "id": "WPqPRAh_77KU",
        "colab_type": "code",
        "colab": {
          "base_uri": "https://localhost:8080/",
          "height": 65
        },
        "outputId": "2162914b-9b1c-43dc-a94e-706c45e559be"
      },
      "source": [
        "# import packages\n",
        "import collections\n",
        "import matplotlib.pyplot as plt\n",
        "from __future__ import print_function\n",
        "\n",
        "import tensorflow as tf\n",
        "import tensorflow_probability as tfp\n",
        "tfd = tfp.distributions\n",
        "\n",
        "try:\n",
        "  tf.compat.v1.enable_eager_execution()\n",
        "except ValueError:\n",
        "  pass"
      ],
      "execution_count": 2,
      "outputs": [
        {
          "output_type": "display_data",
          "data": {
            "text/html": [
              "<p style=\"color: red;\">\n",
              "The default version of TensorFlow in Colab will soon switch to TensorFlow 2.x.<br>\n",
              "We recommend you <a href=\"https://www.tensorflow.org/guide/migrate\" target=\"_blank\">upgrade</a> now \n",
              "or ensure your notebook will continue to use TensorFlow 1.x via the <code>%tensorflow_version 1.x</code> magic:\n",
              "<a href=\"https://colab.research.google.com/notebooks/tensorflow_version.ipynb\" target=\"_blank\">more info</a>.</p>\n"
            ],
            "text/plain": [
              "<IPython.core.display.HTML object>"
            ]
          },
          "metadata": {
            "tags": []
          }
        }
      ]
    },
    {
      "cell_type": "markdown",
      "metadata": {
        "id": "0iDUwcNBAMSJ",
        "colab_type": "text"
      },
      "source": [
        "**Objective**: To simulate a Poisson distribution with rate lambda, where lambda is sampled from Gamma distribution.\n",
        "\n",
        "**Model Definition :**\n",
        "\n",
        "$Outcome_i \\sim Poisson(\\lambda_i)$ <br>\n",
        "$\\lambda_i \\sim Ga(\\alpha, \\beta)$"
      ]
    },
    {
      "cell_type": "markdown",
      "metadata": {
        "id": "XG96kxNs1e6u",
        "colab_type": "text"
      },
      "source": [
        "The samples we are drawing and storing in the variable simulated_values below are a tensor. Similarly, the .mean() method also returns a tensor. Matplotlib will throw an error if we try to pass this tensor directly into the plt.axvline() call. This is why we used the .numpy() method to extract the data value from the tensor."
      ]
    },
    {
      "cell_type": "code",
      "metadata": {
        "id": "qgUfIi7r9y2x",
        "colab_type": "code",
        "colab": {
          "base_uri": "https://localhost:8080/",
          "height": 283
        },
        "outputId": "7d295dde-00c9-4567-8a2f-4cc206384338"
      },
      "source": [
        "# Draw a Random variable from Gamma Distribution\n",
        "rv_gamma = tfd.Gamma(concentration = 1.0, rate = 1.0 / 5.0)\n",
        "\n",
        "# Sampling from the Gamma Distribution\n",
        "simulated_values = rv_gamma.sample(1000000) \n",
        "\n",
        "# Plot the results\n",
        "plt.hist(simulated_values, bins = 30, color = 'dodgerblue', alpha = 0.5)\n",
        "plt.axvline(rv_gamma.mean().numpy())\n",
        "plt.title('Simulating from Gamma Distribution with $E[x] = {:1.2f}$' .\\\n",
        "          format(rv_gamma.mean()))\n",
        "plt.show()"
      ],
      "execution_count": 11,
      "outputs": [
        {
          "output_type": "display_data",
          "data": {
            "image/png": "[encoded data removed]",
            "text/plain": [
              "<Figure size 432x288 with 1 Axes>"
            ]
          },
          "metadata": {
            "tags": []
          }
        }
      ]
    },
    {
      "cell_type": "markdown",
      "metadata": {
        "id": "R2wPGcGd3svh",
        "colab_type": "text"
      },
      "source": [
        "We can see below that simulating a random draw independently from the Gamma distribution is unlikely to provide a lambda of exactly 5, which is the rate we defined for the Gamma distribution. If we draw many samples from the Gamma distribution, the lambda value likely will eventually converge to 5. Also, we would get a sense of the variability of this random variable."
      ]
    },
    {
      "cell_type": "markdown",
      "metadata": {
        "id": "uMJJAtnl4wxA",
        "colab_type": "text"
      },
      "source": [
        "This closely represents the real world. It is rare that we would know everything about our process. For example, we are all comfortable that people are different heights and if we randomly measured people, there would be variability in those measured heights. However, most of us (naively) assume that the mean value is a real, fixed, unvarying amount. "
      ]
    },
    {
      "cell_type": "code",
      "metadata": {
        "id": "WPMXjxaS2Ez8",
        "colab_type": "code",
        "colab": {
          "base_uri": "https://localhost:8080/",
          "height": 283
        },
        "outputId": "88ea199f-1ea0-437d-9c24-3938019a4b13"
      },
      "source": [
        "# Independently draw a lambda as a sample from above Gamma distribution\n",
        "lambda_ = rv_gamma.sample()\n",
        "\n",
        "# Draw a random variable from Poisson Distribution with rate Lambda\n",
        "rv_poisson = tfd.Poisson(rate = lambda_)\n",
        "\n",
        "# Sampling from the Poisson Distribution\n",
        "simulated_values_poisson = rv_poisson.sample(1000000)\n",
        "\n",
        "# Plot the results\n",
        "plt.hist(simulated_values_poisson, bins = 30, color = 'dodgerblue', alpha = 0.5)\n",
        "plt.axvline(lambda_.numpy())\n",
        "plt.title('Simulating from Poisson Distribution with $E[x] = {:1.2f}$' .\\\n",
        "          format(lambda_))\n",
        "plt.show()"
      ],
      "execution_count": 12,
      "outputs": [
        {
          "output_type": "display_data",
          "data": {
            "image/png": "[encoded data removed]",
            "text/plain": [
              "<Figure size 432x288 with 1 Axes>"
            ]
          },
          "metadata": {
            "tags": []
          }
        }
      ]
    },
    {
      "cell_type": "markdown",
      "metadata": {
        "id": "d1G89y9E7S6g",
        "colab_type": "text"
      },
      "source": [
        "Concretely, most people are happy to say that \"people are of varying heights\", but they would be less comfortable with the idea that \"the average height\" is also a varying quantity. In order to communicate clearly the reality, it is very important to convey **the uncertainty around the mean** as well. "
      ]
    },
    {
      "cell_type": "markdown",
      "metadata": {
        "id": "YE8i74sT89S_",
        "colab_type": "text"
      },
      "source": [
        "Think of a business intelligence dashboard and classic \"analytics\" where we report summary stats, like the mean. Very, very few business people would be comfortable with the idea that the mean itself has uncertainty associated with it."
      ]
    },
    {
      "cell_type": "markdown",
      "metadata": {
        "id": "1PhXy68O9M83",
        "colab_type": "text"
      },
      "source": [
        "Let's go back to our Poisson simulation and instead of drawing a single rate from rv_gamma, let's draw a range of rates from this distribution and pass all of these to our Poisson simulation. This way, we will get a better sense for the true variability."
      ]
    },
    {
      "cell_type": "markdown",
      "metadata": {
        "id": "Q_2gGqgj9gGW",
        "colab_type": "text"
      },
      "source": [
        "We will have to adjust our Gamma distribution slightly so that it is centered more strongly around 5 (let us assume that the true rate is close to this value):"
      ]
    },
    {
      "cell_type": "code",
      "metadata": {
        "id": "FcUGcEVn8841",
        "colab_type": "code",
        "colab": {
          "base_uri": "https://localhost:8080/",
          "height": 283
        },
        "outputId": "f7a25a8b-87d1-4502-c279-73d8f9558ebe"
      },
      "source": [
        "# Gamma random variable centred around 5\n",
        "rv_gamma_new = tfd.Gamma(5., 1.)\n",
        "\n",
        "# Independently draw lambdas as a sample from above Gamma distribution\n",
        "lambdas_new = rv_gamma_new.sample(1000)\n",
        "\n",
        "# Draw a random variable from Poisson Distribution with newly drawn lambdas \n",
        "rv_poisson_new = tfd.Poisson(lambdas_new)\n",
        "\n",
        "# Sampling from the Poisson Distribution and store as a 1-d array for plotting\n",
        "simulated_values_new = rv_poisson_new.sample(10000).numpy().ravel()\n",
        "\n",
        "# Plot the results\n",
        "plt.hist(simulated_values_new, bins = 50, color = 'dodgerblue', alpha = 0.5)\n",
        "plt.axvline(rv_poisson_new.sample().numpy().mean())\n",
        "plt.title('Simulating from Poisson Distribution with $E[x] = {:1.2f}$' .\\\n",
        "          format(rv_poisson_new.sample().numpy().mean()))\n",
        "plt.show()"
      ],
      "execution_count": 9,
      "outputs": [
        {
          "output_type": "display_data",
          "data": {
            "image/png": "[encoded data removed]",
            "text/plain": [
              "<Figure size 432x288 with 1 Axes>"
            ]
          },
          "metadata": {
            "tags": []
          }
        }
      ]
    },
    {
      "cell_type": "markdown",
      "metadata": {
        "id": "VuA-m5daD2PM",
        "colab_type": "text"
      },
      "source": [
        "This is a truer picture of our \"poisson process\". Notice that we have a slightly higher amount of variability and values >10 are much more likely in this second simulation than they were in our first simulation. This is a very \"real world\" type of phenomenon."
      ]
    },
    {
      "cell_type": "markdown",
      "metadata": {
        "id": "uUWl3FiAED6T",
        "colab_type": "text"
      },
      "source": [
        "**Unpacking 'Stacked Simulation**"
      ]
    },
    {
      "cell_type": "markdown",
      "metadata": {
        "id": "ZvdjCWXQFRfy",
        "colab_type": "text"
      },
      "source": [
        "The concept of \"shape\" is central to tensorflow and has been adopted by tensorflow probability. The shape of a tensor is determined by the length of each axes and tells us how many indices are available along each axes. It also tells us about the tensor's rank. Changing the shape changes the grouping of the elements within the tensor rather than the elements itself. \n",
        "\n",
        "When we sample from the gamma distribution, we get a tensor where shape = (n_samples,). Here is an example with 5 samples drawn from our gamma distribution:"
      ]
    },
    {
      "cell_type": "code",
      "metadata": {
        "id": "H6sbd5hm8ybW",
        "colab_type": "code",
        "colab": {
          "base_uri": "https://localhost:8080/",
          "height": 72
        },
        "outputId": "8137bd66-0975-43ee-8025-99ba7874facb"
      },
      "source": [
        "# Draw 5 samples from rv_gamma_new random variable\n",
        "rates = rv_gamma_new.sample(5)\n",
        "rates"
      ],
      "execution_count": 13,
      "outputs": [
        {
          "output_type": "execute_result",
          "data": {
            "text/plain": [
              "<tf.Tensor: id=416, shape=(5,), dtype=float32, numpy=\n",
              "array([2.5614693, 2.8850033, 9.771803 , 5.0185657, 1.7392321],\n",
              "      dtype=float32)>"
            ]
          },
          "metadata": {
            "tags": []
          },
          "execution_count": 13
        }
      ]
    },
    {
      "cell_type": "markdown",
      "metadata": {
        "id": "IwWIUovTGzGf",
        "colab_type": "text"
      },
      "source": [
        "Here is another example with 3 samples drawn from our poisson distribution we get a shape = (3, ):"
      ]
    },
    {
      "cell_type": "code",
      "metadata": {
        "id": "4b4RlapQG6Di",
        "colab_type": "code",
        "colab": {
          "base_uri": "https://localhost:8080/",
          "height": 35
        },
        "outputId": "2fd3c119-ce09-45e8-ec85-cf7923e71090"
      },
      "source": [
        "# Draw 3 samples from rv_poisson_example random variable\n",
        "rv_poisson_example = tfd.Poisson(rv_gamma_new.sample())\n",
        "counts = rv_poisson_example.sample(3)\n",
        "counts"
      ],
      "execution_count": 14,
      "outputs": [
        {
          "output_type": "execute_result",
          "data": {
            "text/plain": [
              "<tf.Tensor: id=446, shape=(3,), dtype=float32, numpy=array([ 5., 10.,  4.], dtype=float32)>"
            ]
          },
          "metadata": {
            "tags": []
          },
          "execution_count": 14
        }
      ]
    },
    {
      "cell_type": "markdown",
      "metadata": {
        "id": "rXTaK6EUHluD",
        "colab_type": "text"
      },
      "source": [
        "\n",
        "\n",
        "Notice above, that I have reinstantiated the Poisson distribution with a single draw from the Gamma. This single draw has a shape of (1,) and when we pass this to our Poisson distribution, the result is that our Poisson distribution will have this shape."
      ]
    },
    {
      "cell_type": "markdown",
      "metadata": {
        "id": "vVsr4bt1HwpK",
        "colab_type": "text"
      },
      "source": [
        "If however, we pass in our rates which are of shape (5,), then our Poisson distribution will also have a shape of (5,). We can think of this as 5 separate Poisson distributions. Then, when we ask for 3 samples from our Poisson, we actually get 15 (3 samples from each of our 5 different Poissons):"
      ]
    },
    {
      "cell_type": "code",
      "metadata": {
        "id": "lVmjHHETH30j",
        "colab_type": "code",
        "colab": {
          "base_uri": "https://localhost:8080/",
          "height": 35
        },
        "outputId": "87c064b9-21e1-4f58-8f68-93341dd6121d"
      },
      "source": [
        "rv_poisson_example2 = tfd.Poisson(rv_gamma_new.sample(5))\n",
        "rv_poisson_example2"
      ],
      "execution_count": 19,
      "outputs": [
        {
          "output_type": "execute_result",
          "data": {
            "text/plain": [
              "<tfp.distributions.Poisson 'Poisson/' batch_shape=[5] event_shape=[] dtype=float32>"
            ]
          },
          "metadata": {
            "tags": []
          },
          "execution_count": 19
        }
      ]
    },
    {
      "cell_type": "code",
      "metadata": {
        "id": "xjyBaSbJIGcg",
        "colab_type": "code",
        "colab": {
          "base_uri": "https://localhost:8080/",
          "height": 90
        },
        "outputId": "af1bd6d5-67c3-4996-bfe8-480ba3a58a3b"
      },
      "source": [
        "counts_new = rv_poisson_example2.sample(3)\n",
        "counts_new"
      ],
      "execution_count": 20,
      "outputs": [
        {
          "output_type": "execute_result",
          "data": {
            "text/plain": [
              "<tf.Tensor: id=511, shape=(3, 5), dtype=float32, numpy=\n",
              "array([[5., 8., 2., 7., 0.],\n",
              "       [3., 3., 6., 7., 3.],\n",
              "       [7., 9., 8., 5., 2.]], dtype=float32)>"
            ]
          },
          "metadata": {
            "tags": []
          },
          "execution_count": 20
        }
      ]
    }
  ]
}
